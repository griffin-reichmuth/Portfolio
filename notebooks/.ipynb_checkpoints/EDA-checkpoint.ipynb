{
 "cells": [
  {
   "cell_type": "markdown",
   "id": "3f6121e6-2e79-4a34-aba8-240f86d10739",
   "metadata": {},
   "source": [
    "# Exploratory Data Analysis"
   ]
  },
  {
   "cell_type": "code",
   "execution_count": 1,
   "id": "354a51b7-cdde-49b1-b8b6-e5c995429b82",
   "metadata": {},
   "outputs": [],
   "source": [
    "%load_ext autoreload\n",
    "%autoreload 2"
   ]
  },
  {
   "cell_type": "code",
   "execution_count": 3,
   "id": "e0a43c98-1cd9-40c7-a6ed-7585950c746a",
   "metadata": {},
   "outputs": [],
   "source": [
    "import pandas as pd\n",
    "import seaborn as sns\n",
    "import matplotlib.pyplot as plt\n",
    "import sys, os\n",
    "import plotly.io as pio"
   ]
  },
  {
   "cell_type": "code",
   "execution_count": 4,
   "id": "8d23d357-c80e-42ae-aa30-f85923b94060",
   "metadata": {},
   "outputs": [
    {
     "ename": "ModuleNotFoundError",
     "evalue": "No module named 'visualizations'",
     "output_type": "error",
     "traceback": [
      "\u001b[1;31m---------------------------------------------------------------------------\u001b[0m",
      "\u001b[1;31mModuleNotFoundError\u001b[0m                       Traceback (most recent call last)",
      "Cell \u001b[1;32mIn[4], line 8\u001b[0m\n\u001b[0;32m      6\u001b[0m \u001b[38;5;28;01mimport\u001b[39;00m \u001b[38;5;21;01mpolars\u001b[39;00m \u001b[38;5;28;01mas\u001b[39;00m \u001b[38;5;21;01mpl\u001b[39;00m\n\u001b[0;32m      7\u001b[0m \u001b[38;5;28;01mimport\u001b[39;00m \u001b[38;5;21;01mplotly\u001b[39;00m\u001b[38;5;21;01m.\u001b[39;00m\u001b[38;5;21;01mexpress\u001b[39;00m \u001b[38;5;28;01mas\u001b[39;00m \u001b[38;5;21;01mpx\u001b[39;00m\n\u001b[1;32m----> 8\u001b[0m \u001b[38;5;28;01mfrom\u001b[39;00m \u001b[38;5;21;01mvisualizations\u001b[39;00m \u001b[38;5;28;01mimport\u001b[39;00m bar_plot, proportion_plot, boxplot_by_bin_with_target\n\u001b[0;32m      9\u001b[0m \u001b[38;5;66;03m# etc\u001b[39;00m\n\u001b[0;32m     11\u001b[0m pio\u001b[38;5;241m.\u001b[39mrenderers\u001b[38;5;241m.\u001b[39mdefault\u001b[38;5;241m=\u001b[39m\u001b[38;5;124m'\u001b[39m\u001b[38;5;124mnotebook\u001b[39m\u001b[38;5;124m'\u001b[39m\n",
      "\u001b[1;31mModuleNotFoundError\u001b[0m: No module named 'visualizations'"
     ]
    }
   ],
   "source": [
    "# Path needs to be added manually to read from another folder\n",
    "path2add = os.path.normpath(os.path.abspath(os.path.join(os.path.dirname('__file__'), os.path.pardir, 'utils')))\n",
    "if (not (path2add in sys.path)) :\n",
    "    sys.path.append(path2add)\n",
    "    \n",
    "import polars as pl\n",
    "import plotly.express as px\n",
    "from visualizations import bar_plot, proportion_plot, boxplot_by_bin_with_target\n",
    "# etc\n",
    "\n",
    "pio.renderers.default='notebook'"
   ]
  },
  {
   "cell_type": "code",
   "execution_count": null,
   "id": "7157222d-bb32-46bb-9223-ac3cfcc98edd",
   "metadata": {},
   "outputs": [],
   "source": [
    "data = pd.read_parquet(\"../data/cleaned_data.parquet\")"
   ]
  },
  {
   "cell_type": "markdown",
   "id": "101aa866-8087-4146-b193-61879c65fee8",
   "metadata": {},
   "source": [
    "## Univariate Analysis"
   ]
  },
  {
   "cell_type": "code",
   "execution_count": null,
   "id": "486c0f72-7957-4a8a-af84-66c1414247ae",
   "metadata": {},
   "outputs": [],
   "source": []
  },
  {
   "cell_type": "code",
   "execution_count": null,
   "id": "2ed9b9bd-558c-4bb7-831f-25913c7445ec",
   "metadata": {},
   "outputs": [],
   "source": []
  },
  {
   "cell_type": "code",
   "execution_count": null,
   "id": "ee2ad5e0-7e1a-4cff-b273-25667b27c827",
   "metadata": {},
   "outputs": [],
   "source": []
  },
  {
   "cell_type": "code",
   "execution_count": null,
   "id": "fd2d5424-dc17-4135-9124-b53c6c3f226a",
   "metadata": {},
   "outputs": [],
   "source": []
  },
  {
   "cell_type": "code",
   "execution_count": null,
   "id": "d0fca501-fa80-46fd-b8cc-92240b68375b",
   "metadata": {},
   "outputs": [],
   "source": []
  },
  {
   "cell_type": "markdown",
   "id": "ecd9f519-4105-4447-8bd7-a14081052166",
   "metadata": {},
   "source": [
    "**Observations**\n",
    "\n",
    "- The dataset seems to be very clean with just 4 rows of missing values\n",
    "- There's an id column present in this dataset\n",
    "- There are some extreme outliers in inter_api_access_duration(sec) and vsession_duration(min) columns"
   ]
  },
  {
   "cell_type": "markdown",
   "id": "eeb661bc-f6e3-461f-a0c8-f19d2c90ed1c",
   "metadata": {},
   "source": [
    "## Features vs Target"
   ]
  },
  {
   "cell_type": "markdown",
   "id": "be36d893-8b39-4257-8856-9feb81acb49a",
   "metadata": {},
   "source": []
  },
  {
   "cell_type": "code",
   "execution_count": null,
   "id": "114c6133-0401-498c-9afc-ee2a90287911",
   "metadata": {},
   "outputs": [],
   "source": []
  },
  {
   "cell_type": "code",
   "execution_count": null,
   "id": "eb193f22-0f0a-47ea-9448-7f2cf03e2e48",
   "metadata": {},
   "outputs": [],
   "source": []
  },
  {
   "cell_type": "code",
   "execution_count": null,
   "id": "39892f5f-5416-4e1a-9e9e-b9ddbd858db7",
   "metadata": {},
   "outputs": [],
   "source": [
    "**Observations**\n",
    "\n",
    "- The dataset seems to be very clean with just 4 rows of missing values\n",
    "- There's an id column present in this dataset\n",
    "- There are some extreme outliers in inter_api_access_duration(sec) and vsession_duration(min) columns\n",
    "    \n",
    "**Insights**\n",
    "\n",
    "- Numerical ID column needs to be dropped since it has no value"
   ]
  },
  {
   "cell_type": "markdown",
   "id": "1f532913-27e3-4f30-8b28-f39c4772f644",
   "metadata": {},
   "source": [
    "## Hypotheses"
   ]
  },
  {
   "cell_type": "markdown",
   "id": "be342bba-e9a2-4501-b1fe-99c909c46efa",
   "metadata": {},
   "source": [
    "Are longer sessions with high speed inter API calls more anomalous?"
   ]
  },
  {
   "cell_type": "code",
   "execution_count": null,
   "id": "846a5253-859d-4c5c-8882-73ced135c4be",
   "metadata": {},
   "outputs": [],
   "source": []
  },
  {
   "cell_type": "code",
   "execution_count": null,
   "id": "fe0bd05f-4844-4d3d-acd6-b6959798ec58",
   "metadata": {},
   "outputs": [],
   "source": []
  },
  {
   "cell_type": "code",
   "execution_count": null,
   "id": "1299fe3f-3143-4f2b-bba2-eef967773efa",
   "metadata": {},
   "outputs": [],
   "source": []
  },
  {
   "cell_type": "markdown",
   "id": "8f69f167-73ff-4d7e-a696-783eed6ceb0f",
   "metadata": {},
   "source": [
    "**Observations**\n",
    "\n",
    "- The dataset seems to be very clean with just 4 rows of missing values\n",
    "- There's an id column present in this dataset\n",
    "- There are some extreme outliers in inter_api_access_duration(sec) and vsession_duration(min) columns\n",
    "    \n",
    "**Insights**\n",
    "\n",
    "- Numerical ID column needs to be dropped since it has no value"
   ]
  },
  {
   "cell_type": "code",
   "execution_count": null,
   "id": "17c7f573-d208-4720-9ea4-51c69185c2d2",
   "metadata": {},
   "outputs": [],
   "source": []
  },
  {
   "cell_type": "markdown",
   "id": "8a60a783-8610-44cf-afbf-9981dde1fbf0",
   "metadata": {},
   "source": [
    "# Summary"
   ]
  },
  {
   "cell_type": "markdown",
   "id": "b63ffd6e-0259-4f00-a18e-683d8600fdbd",
   "metadata": {},
   "source": [
    "**Main Insights**\n",
    "\n",
    "- Most of the traffic comes from the default source, only 9% comes from datacenters\n",
    "- All the datacenter traffic is considered to be anomalous\n",
    "- Longer sequences with faster inter API access ruations are not more likely to be anomalous\n",
    "\n",
    "**Implications for Modelling**\n",
    "\n",
    "- Dataset needs to be filter to include only the default source type"
   ]
  }
 ],
 "metadata": {
  "kernelspec": {
   "display_name": "Python 3 (ipykernel)",
   "language": "python",
   "name": "python3"
  },
  "language_info": {
   "codemirror_mode": {
    "name": "ipython",
    "version": 3
   },
   "file_extension": ".py",
   "mimetype": "text/x-python",
   "name": "python",
   "nbconvert_exporter": "python",
   "pygments_lexer": "ipython3",
   "version": "3.9.18"
  }
 },
 "nbformat": 4,
 "nbformat_minor": 5
}
