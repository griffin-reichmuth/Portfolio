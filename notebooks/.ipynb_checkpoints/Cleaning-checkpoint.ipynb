{
 "cells": [
  {
   "cell_type": "markdown",
   "id": "eb53643f-8c27-4e5c-928f-ac60bf202fac",
   "metadata": {},
   "source": [
    "# Cleaning"
   ]
  },
  {
   "cell_type": "code",
   "execution_count": 1,
   "id": "c6b11d15-939b-425c-8cf6-5d04482fafcf",
   "metadata": {},
   "outputs": [],
   "source": [
    "import sys, os\n",
    "import plotly.io as pio"
   ]
  },
  {
   "cell_type": "code",
   "execution_count": null,
   "id": "d040cef3-1145-404b-82d0-a95c460e8cfd",
   "metadata": {},
   "outputs": [],
   "source": [
    "# Path needs to be added manually to read from another folder\n",
    "path2add = os.path.normpath(os.path.abspath(os.path.join(os.path.dirname('__file__'), os.path.pardir, 'utils')))\n",
    "if (not (path2add in sys.path)) :\n",
    "    sys.path.append(path2add)\n",
    "    \n",
    "import polars as pl\n",
    "import plotly.express as px\n",
    "from visualisations import bar_plot, proportion_plot, boxplot_by_bin_with_target\n",
    "# etc\n",
    "\n",
    "pio.renderers.default='notebook'"
   ]
  },
  {
   "cell_type": "code",
   "execution_count": null,
   "id": "dbcfba8d-8fc7-4bed-b15b-6eb98d5a82c0",
   "metadata": {},
   "outputs": [],
   "source": []
  }
 ],
 "metadata": {
  "kernelspec": {
   "display_name": "Python 3 (ipykernel)",
   "language": "python",
   "name": "python3"
  },
  "language_info": {
   "codemirror_mode": {
    "name": "ipython",
    "version": 3
   },
   "file_extension": ".py",
   "mimetype": "text/x-python",
   "name": "python",
   "nbconvert_exporter": "python",
   "pygments_lexer": "ipython3",
   "version": "3.9.18"
  }
 },
 "nbformat": 4,
 "nbformat_minor": 5
}
